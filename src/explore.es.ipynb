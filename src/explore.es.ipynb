{
    "cells": [
        {
            "cell_type": "markdown",
            "metadata": {},
            "source": [
                "# Explora aquí\n",
                "\n",
                "Se recomienda utilizar este cuaderno con fines de exploración."
            ]
        },
        {
            "cell_type": "code",
            "execution_count": 2,
            "metadata": {},
            "outputs": [],
            "source": [
                "from selenium import webdriver\n",
                "from selenium.webdriver.common.by import By\n",
                "driver = webdriver.Chrome()"
            ]
        },
        {
            "cell_type": "code",
            "execution_count": 6,
            "metadata": {},
            "outputs": [],
            "source": [
                "#Obetenemos el codigo HTML\n",
                "\n",
                "URL = \"https://ycharts.com/companies/TSLA/revenues\"\n",
                "\n",
                "driver.get(URL)"
            ]
        },
        {
            "cell_type": "code",
            "execution_count": 34,
            "metadata": {},
            "outputs": [
                {
                    "data": {
                        "text/plain": [
                            "['',\n",
                            " '',\n",
                            " '',\n",
                            " '',\n",
                            " '',\n",
                            " '',\n",
                            " '',\n",
                            " 'Value',\n",
                            " '25.50B',\n",
                            " '21.30B',\n",
                            " '25.17B',\n",
                            " '23.35B',\n",
                            " '24.93B',\n",
                            " '23.33B',\n",
                            " '24.32B',\n",
                            " '21.45B',\n",
                            " '16.93B',\n",
                            " '18.76B',\n",
                            " '17.72B',\n",
                            " '13.76B',\n",
                            " '11.96B',\n",
                            " '10.39B',\n",
                            " '10.74B',\n",
                            " '8.771B',\n",
                            " '6.036B',\n",
                            " '5.985B',\n",
                            " '7.384B',\n",
                            " '6.303B',\n",
                            " '6.35B',\n",
                            " '4.541B',\n",
                            " '7.226B',\n",
                            " '6.824B',\n",
                            " '4.002B',\n",
                            " 'Value',\n",
                            " '3.409B',\n",
                            " '3.288B',\n",
                            " '2.985B',\n",
                            " '2.790B',\n",
                            " '2.696B',\n",
                            " '2.285B',\n",
                            " '2.298B',\n",
                            " '1.270B',\n",
                            " '1.147B',\n",
                            " '1.214B',\n",
                            " '936.79M',\n",
                            " '954.98M',\n",
                            " '939.88M',\n",
                            " '956.66M',\n",
                            " '851.80M',\n",
                            " '769.35M',\n",
                            " '620.54M',\n",
                            " '615.22M',\n",
                            " '431.35M',\n",
                            " '405.14M',\n",
                            " '561.79M',\n",
                            " '306.33M',\n",
                            " '50.10M',\n",
                            " '26.65M',\n",
                            " '30.17M']"
                        ]
                    },
                    "execution_count": 34,
                    "metadata": {},
                    "output_type": "execute_result"
                }
            ],
            "source": [
                "#Obtenemos el TAG\n",
                "raw_data = driver.find_elements(By.TAG_NAME, \"tr\")\n",
                "\n",
                "#Filtramos los datos que nos interesan\n",
                "\n",
                "data = []\n",
                "for i in raw_data:\n",
                "    data.append(i.text)\n",
                "    if (\"General Motors Co\" in str(i.text)):\n",
                "        data.remove(i.text)\n",
                "        break\n",
                "\n",
                "date = []\n",
                "revenue = []\n",
                "for i in range(len(data)):\n",
                "    revenue.append (data[i].split(\" \")[-1])\n",
                "\n",
                "revenue\n",
                "\n"
            ]
        },
        {
            "cell_type": "code",
            "execution_count": 3,
            "metadata": {},
            "outputs": [],
            "source": [
                "driver.quit()"
            ]
        }
    ],
    "metadata": {
        "kernelspec": {
            "display_name": ".venv",
            "language": "python",
            "name": "python3"
        },
        "language_info": {
            "codemirror_mode": {
                "name": "ipython",
                "version": 3
            },
            "file_extension": ".py",
            "mimetype": "text/x-python",
            "name": "python",
            "nbconvert_exporter": "python",
            "pygments_lexer": "ipython3",
            "version": "3.12.7"
        },
        "orig_nbformat": 4
    },
    "nbformat": 4,
    "nbformat_minor": 2
}
