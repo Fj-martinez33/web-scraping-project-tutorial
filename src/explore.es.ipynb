{
    "cells": [
        {
            "cell_type": "markdown",
            "metadata": {},
            "source": [
                "# Explora aquí\n",
                "\n",
                "Se recomienda utilizar este cuaderno con fines de exploración."
            ]
        },
        {
            "cell_type": "code",
            "execution_count": 8,
            "metadata": {},
            "outputs": [],
            "source": [
                "#Librerias\n",
                "\n",
                "from selenium import webdriver\n",
                "from selenium.webdriver.common.by import By\n",
                "import pandas as pd\n",
                "import sqlite3\n"
            ]
        },
        {
            "cell_type": "code",
            "execution_count": 9,
            "metadata": {},
            "outputs": [],
            "source": [
                "#Proporcionamos una URL\n",
                "\n",
                "URL = \"https://ycharts.com/companies/TSLA/revenues\""
            ]
        },
        {
            "cell_type": "code",
            "execution_count": 10,
            "metadata": {},
            "outputs": [],
            "source": [
                "def DataSeeker(get_url):\n",
                "    driver = webdriver.Chrome()\n",
                "    driver.get(get_url)\n",
                "\n",
                "    #Obtenemos el HTML\n",
                "    raw_data = driver.find_elements(By.TAG_NAME, \"tr\")\n",
                "\n",
                "    #Filtramos los datos que nos interesan\n",
                "\n",
                "    data = []\n",
                "    for i in raw_data:\n",
                "        data.append(i.text)\n",
                "        if (\"General Motors Co\" in str(i.text)):\n",
                "            data.remove(i.text)\n",
                "    \n",
                "            break\n",
                "    #Limpiamos la data\n",
                "    for e in data:\n",
                "        data.remove(e)\n",
                "        if (\"Date Value\" in str(e)):\n",
                "            data.remove(e)\n",
                "\n",
                "\n",
                "    #Cerramos conexion\n",
                "    driver.quit()\n",
                "    return data"
            ]
        },
        {
            "cell_type": "code",
            "execution_count": 11,
            "metadata": {},
            "outputs": [],
            "source": [
                "def SplitData(data):\n",
                "    \n",
                "    #Separamos los valores que queremos ingresar al DataFrame\n",
                "    split_date = []\n",
                "    date = []\n",
                "    revenue = []\n",
                "    for i in range(len(data)):\n",
                "        revenue.append (data[i].split(\" \")[-1])\n",
                "        split_date.append(data[i].split(\" \")[:3])\n",
                "        date.append(\" \".join(split_date[i]))\n",
                "    return date, revenue"
            ]
        },
        {
            "cell_type": "code",
            "execution_count": 12,
            "metadata": {},
            "outputs": [],
            "source": [
                "def TransformDataSet(col1, col2):\n",
                "    #Creamos el Data Set\n",
                "    dataset = pd.DataFrame(zip(col1, col2), columns=[\"Date\",\"Revenue\"])\n",
                "\n",
                "    #Eliminamos las dos primeras filas innecesarias.\n",
                "    dataset = dataset.drop(index=[0,1,2,3]).reset_index(drop = True)\n",
                "    return dataset"
            ]
        },
        {
            "cell_type": "code",
            "execution_count": 13,
            "metadata": {},
            "outputs": [],
            "source": [
                "def SaveIntoDB(dataset):\n",
                "    # Nos conectamos a la base de datos\n",
                "\n",
                "    con = sqlite3.connect(\"tesla.db\")\n",
                "\n",
                "    dataset.to_sql(name=(\"tesla_quaterly_revenue\"), con = con, if_exists=\"replace\", index=False)\n",
                "\n",
                "    con.commit()\n",
                "    \n",
                "    return f\"Database is uploaded.\"\n",
                "\n"
            ]
        },
        {
            "cell_type": "code",
            "execution_count": 14,
            "metadata": {},
            "outputs": [
                {
                    "data": {
                        "text/plain": [
                            "'Database is uploaded.'"
                        ]
                    },
                    "execution_count": 14,
                    "metadata": {},
                    "output_type": "execute_result"
                }
            ],
            "source": [
                "#Ejecutamos las funciones\n",
                "\n",
                "date, revenue = SplitData(DataSeeker(URL))\n",
                "\n",
                "SaveIntoDB(TransformDataSet(date, revenue))"
            ]
        }
    ],
    "metadata": {
        "kernelspec": {
            "display_name": ".venv",
            "language": "python",
            "name": "python3"
        },
        "language_info": {
            "codemirror_mode": {
                "name": "ipython",
                "version": 3
            },
            "file_extension": ".py",
            "mimetype": "text/x-python",
            "name": "python",
            "nbconvert_exporter": "python",
            "pygments_lexer": "ipython3",
            "version": "3.12.7"
        },
        "orig_nbformat": 4
    },
    "nbformat": 4,
    "nbformat_minor": 2
}
